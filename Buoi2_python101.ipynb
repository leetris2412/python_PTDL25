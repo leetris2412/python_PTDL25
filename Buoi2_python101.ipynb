{
  "nbformat": 4,
  "nbformat_minor": 0,
  "metadata": {
    "colab": {
      "provenance": [],
      "authorship_tag": "ABX9TyM1TpLFXwEjuphYRCI9b58H",
      "include_colab_link": true
    },
    "kernelspec": {
      "name": "python3",
      "display_name": "Python 3"
    },
    "language_info": {
      "name": "python"
    }
  },
  "cells": [
    {
      "cell_type": "markdown",
      "metadata": {
        "id": "view-in-github",
        "colab_type": "text"
      },
      "source": [
        "<a href=\"https://colab.research.google.com/github/leetris2412/python_PTDL25/blob/main/Buoi2_python101.ipynb\" target=\"_parent\"><img src=\"https://colab.research.google.com/assets/colab-badge.svg\" alt=\"Open In Colab\"/></a>"
      ]
    },
    {
      "cell_type": "markdown",
      "source": [
        "## PYTHON PROGRAMING"
      ],
      "metadata": {
        "id": "NTK5FQnZmkVe"
      }
    },
    {
      "cell_type": "code",
      "source": [
        "print(\"hello world\")"
      ],
      "metadata": {
        "id": "4RAubnUtidHs"
      },
      "execution_count": null,
      "outputs": []
    },
    {
      "cell_type": "code",
      "execution_count": null,
      "metadata": {
        "id": "Xiow-26wiCZU"
      },
      "outputs": [],
      "source": [
        "#comment"
      ]
    },
    {
      "cell_type": "code",
      "source": [
        "#variabel\n",
        "x = 2\n",
        "y = x + 2"
      ],
      "metadata": {
        "id": "pAR5-O0NikP7"
      },
      "execution_count": null,
      "outputs": []
    },
    {
      "cell_type": "code",
      "source": [
        "#comment\n",
        "from platform import python_version\n",
        "print(python_version())"
      ],
      "metadata": {
        "id": "D1DxajZqio6p"
      },
      "execution_count": null,
      "outputs": []
    },
    {
      "cell_type": "code",
      "source": [
        "#data type\n",
        "x = 'hello world'\n",
        "print(f\"x: {x}\")\n",
        "print(f\"type(x): {type(x)}\")\n",
        "x = 2\n",
        "print(f\"x: {x}\")\n",
        "print(f\"type(x): {type(x)}\")\n",
        "x = 2.5\n",
        "print(f\"x: {x}\")\n",
        "print(f\"type(x): {type(x)}\")\n",
        "x = 7j\n",
        "print(f\"x: {x}\")\n",
        "print(f\"type(x): {type(x)}\")\n"
      ],
      "metadata": {
        "id": "b7R8PJYniog8"
      },
      "execution_count": null,
      "outputs": []
    },
    {
      "cell_type": "code",
      "source": [
        "x = [\"apple\", \"banana\", \"cherry\"] #list\n",
        "print(f\"x: {x}\")\n",
        "print(f\"type(x): {type(x)}\")\n",
        "x = (\"apple\", \"banana\", \"cherry\") #tuple\n",
        "print(f\"x: {x}\")\n",
        "print(f\"type(x): {type(x)}\")\n",
        "x = range(6) #range\n",
        "print(f\"x: {x}\")\n",
        "print(f\"type(x): {type(x)}\")\n",
        "x = {\"name\" : \"Tom\", \"age\" : 20} #dict\n",
        "print(f\"x: {x}\")\n",
        "print(f\"type(x): {type(x)}\")\n",
        "x = {\"apple\", \"banana\", \"cherry\"} #set\n",
        "print(f\"x: {x}\")\n",
        "print(f\"type(x): {type(x)}\")\n",
        "x = frozenset({\"apple\", \"banana\", \"cherry\"})\n",
        "print(f\"x: {x}\")\n",
        "print(f\"type(x): {type(x)}\")"
      ],
      "metadata": {
        "id": "ItN3yfn3i_lw"
      },
      "execution_count": null,
      "outputs": []
    },
    {
      "cell_type": "code",
      "source": [
        "x = True #bool\n",
        "print(f\"x: {x}\")\n",
        "print(f\"type(x): {type(x)}\")\n",
        "x = b\"Hello\" #bytes\n",
        "print(f\"x: {x}\")\n",
        "print(f\"type(x): {type(x)}\")\n",
        "x = bytearray(5) #bytearray\n",
        "print(f\"x: {x}\")\n",
        "print(f\"type(x): {type(x)}\")\n",
        "x = memoryview(bytes(5)) #memoryview\n",
        "print(f\"x: {x}\")\n",
        "print(f\"type(x): {type(x)}\")\n",
        "x = None #NoneType\n",
        "print(f\"x: {x}\")\n",
        "print(f\"type(x): {type(x)}\")"
      ],
      "metadata": {
        "id": "ilCJsOEwjpY5"
      },
      "execution_count": null,
      "outputs": []
    },
    {
      "cell_type": "code",
      "source": [
        "#Python Casting\n",
        "x = str(3) # x will be '3'\n",
        "y = int(3) # y will be 3\n",
        "z = float(3) # z will be 3.0\n",
        "print(x, type(x))\n",
        "print(y, type(y))\n",
        "print(z, type(z))"
      ],
      "metadata": {
        "id": "O9lkSnD4js8M"
      },
      "execution_count": null,
      "outputs": []
    },
    {
      "cell_type": "code",
      "source": [
        "#Python Numbers\n",
        "x = 2 # int\n",
        "y = 3.4 # float\n",
        "z = 7j #complex\n",
        "print(x, type(x))\n",
        "print(y, type(y))\n",
        "print(z, type(z))"
      ],
      "metadata": {
        "id": "vI_CBZx_jyA-"
      },
      "execution_count": null,
      "outputs": []
    },
    {
      "cell_type": "code",
      "source": [
        "#Python Arithmetic Operators\n",
        "print('7 + 2 =', 7 + 2)\n",
        "print('7 - 2 =', 7 - 2)\n",
        "print('7 * 2 =', 7 * 2)\n",
        "print('7 / 2 =', 7 / 2)\n",
        "print('7 // 2 =', 7 // 2)\n",
        "print('7 % 2 =', 7 % 2)\n",
        "print('7 ** 2 =', 7 ** 2)"
      ],
      "metadata": {
        "id": "VEHHqNu9j3hA"
      },
      "execution_count": null,
      "outputs": []
    },
    {
      "cell_type": "code",
      "source": [
        "# Python Booleans: True or False\n",
        "print(3 > 2)\n",
        "print(3 == 2)\n",
        "print(3 < 2)"
      ],
      "metadata": {
        "id": "TqEJ9GmBj9l8"
      },
      "execution_count": null,
      "outputs": []
    },
    {
      "cell_type": "code",
      "source": [
        "for a, b in [(2,5), (5,2), (5,5)]:\n",
        "    print(\"-\"*50)\n",
        "    print(f\"a={a}, b={b}\")\n",
        "    print(f\"a<b:[|a| < |b|]: {a<b}\")\n",
        "    print(f\"a>b:[|a| > |b|]: {a>b}\")\n",
        "    print(f\"a<=b:[|a| <= |b|]: {a<=b}\")\n",
        "    print(f\"a>=b:[|a| >= |b|]: {a>=b}\")"
      ],
      "metadata": {
        "colab": {
          "base_uri": "https://localhost:8080/"
        },
        "id": "5H4trEgIkKZu",
        "outputId": "344a82c7-4677-4335-a561-2437d30b0c38"
      },
      "execution_count": 4,
      "outputs": [
        {
          "output_type": "stream",
          "name": "stdout",
          "text": [
            "--------------------------------------------------\n",
            "a=2, b=5\n",
            "a<b:[|a| < |b|]: True\n",
            "a>b:[|a| > |b|]: False\n",
            "a<=b:[|a| <= |b|]: True\n",
            "a>=b:[|a| >= |b|]: False\n",
            "--------------------------------------------------\n",
            "a=5, b=2\n",
            "a<b:[|a| < |b|]: False\n",
            "a>b:[|a| > |b|]: True\n",
            "a<=b:[|a| <= |b|]: False\n",
            "a>=b:[|a| >= |b|]: True\n",
            "--------------------------------------------------\n",
            "a=5, b=5\n",
            "a<b:[|a| < |b|]: False\n",
            "a>b:[|a| > |b|]: False\n",
            "a<=b:[|a| <= |b|]: True\n",
            "a>=b:[|a| >= |b|]: True\n"
          ]
        }
      ]
    },
    {
      "cell_type": "code",
      "source": [
        "# BMI Calculator in Python\n",
        "height_cm = 170\n",
        "weight_kg = 60\n",
        "height_m = height_cm/100\n",
        "BMI = (weight_kg/(height_m**2))\n",
        "\n",
        "print(\"Your BMI is: \" + str(round(BMI,1)))"
      ],
      "metadata": {
        "id": "YkM-dOV3lmOQ"
      },
      "execution_count": null,
      "outputs": []
    },
    {
      "cell_type": "code",
      "source": [
        "# How much is your $100 worth after 7 years?\n",
        "fv = 100 * 1.1 ** 7\n",
        "print('fv = ', round(fv, 2))\n",
        "# output = 194.87"
      ],
      "metadata": {
        "id": "iMYgrVcVl5UO"
      },
      "execution_count": null,
      "outputs": []
    },
    {
      "cell_type": "code",
      "source": [
        "# Future Value\n",
        "pv = 100\n",
        "r = 0.1\n",
        "n = 7\n",
        "fv = pv * ((1 + (r)) ** n)\n",
        "print(round(fv, 2))"
      ],
      "metadata": {
        "id": "yGUUKqD2nBI-"
      },
      "execution_count": null,
      "outputs": []
    },
    {
      "cell_type": "code",
      "source": [
        "# Future Value\n",
        "amount = 100\n",
        "interest = 10 #10% = 0.01 * 10\n",
        "years = 7\n",
        "\n",
        "future_value = amount * ((1 + (0.01 * interest)) ** years)\n",
        "print(round(future_value, 2))"
      ],
      "metadata": {
        "id": "YTRTqHPHnFEh"
      },
      "execution_count": null,
      "outputs": []
    },
    {
      "cell_type": "markdown",
      "source": [
        "KẾT THÚC"
      ],
      "metadata": {
        "id": "A0NtexhTnKv8"
      }
    },
    {
      "cell_type": "markdown",
      "source": [
        "## DATA STRUCTURE"
      ],
      "metadata": {
        "id": "_dgRG4JKnOfm"
      }
    },
    {
      "cell_type": "code",
      "source": [
        "#Python Data Types\n",
        "x = [\"apple\", \"banana\", \"cherry\"] #list\n",
        "print(f\"x: {x}\")\n",
        "print(f\"type(x): {type(x)}\")\n",
        "x = (\"apple\", \"banana\", \"cherry\") #tuple\n",
        "print(f\"x: {x}\")\n",
        "print(f\"type(x): {type(x)}\")\n",
        "x = {\"name\" : \"Tom\", \"age\" : 20} #dict\n",
        "print(f\"x: {x}\")\n",
        "print(f\"type(x): {type(x)}\")\n",
        "x = {\"apple\", \"banana\", \"cherry\"} #set\n",
        "print(f\"x: {x}\")\n",
        "print(f\"type(x): {type(x)}\")"
      ],
      "metadata": {
        "id": "_XHhbc_unS9v"
      },
      "execution_count": null,
      "outputs": []
    },
    {
      "cell_type": "code",
      "source": [
        "#list\n",
        "x = [60, 70, 80, 90]\n",
        "print(len(x))\n",
        "print(x[0])\n",
        "print(x[1])\n",
        "print(x[-1])"
      ],
      "metadata": {
        "id": "jvY6wVkwndtd"
      },
      "execution_count": null,
      "outputs": []
    },
    {
      "cell_type": "code",
      "source": [
        "#tuple()\n",
        "x = (10, 20, 30, 40, 50)\n",
        "print(x[0])\n",
        "print(x[1])\n",
        "print(x[2])\n",
        "print(x[-1])"
      ],
      "metadata": {
        "id": "heOAhQRznkYq"
      },
      "execution_count": null,
      "outputs": []
    },
    {
      "cell_type": "code",
      "source": [
        "#set\n",
        "animals = {'cat', 'dog'}\n",
        "print('cat' in animals)\n",
        "print('fish' in animals)\n",
        "animals.add('fish')\n",
        "print('fish' in animals)\n",
        "print(len(animals))\n",
        "animals.add('cat')\n",
        "print(len(animals))\n",
        "animals.remove('cat')\n",
        "print(len(animals))"
      ],
      "metadata": {
        "id": "JevZvyypnnQV"
      },
      "execution_count": null,
      "outputs": []
    },
    {
      "cell_type": "code",
      "source": [
        "k = { 'EN':'English','FR':'French' }\n",
        "print(k['EN'])"
      ],
      "metadata": {
        "id": "Rerc6t2XnrXr"
      },
      "execution_count": null,
      "outputs": []
    },
    {
      "cell_type": "code",
      "source": [
        "fruits = [\"apple\", \"banana\", \"cherry\"] #lists []\n",
        "colors = (\"red\", \"green\", \"blue\") #tuples ()\n",
        "animals = {'cat', 'dog'} #sets {}\n",
        "person = {\"name\" : \"Tom\", \"age\" : 20} #dictionaries {}"
      ],
      "metadata": {
        "id": "Cs19FFgXnvrL"
      },
      "execution_count": null,
      "outputs": []
    },
    {
      "cell_type": "markdown",
      "source": [
        "Python for Finance Applications"
      ],
      "metadata": {
        "id": "txvwoKtNsdy8"
      }
    },
    {
      "cell_type": "code",
      "source": [
        "# Python Lists\n",
        "expenses = [72.50, 80.75, 50.00, 90.25]\n",
        "total_expenses = sum(expenses)\n",
        "print(\"Total expenses:\", total_expenses)"
      ],
      "metadata": {
        "id": "lTfvQEmWnyTT"
      },
      "execution_count": null,
      "outputs": []
    },
    {
      "cell_type": "code",
      "source": [
        "# Python Tuples\n",
        "accounts = ((\"Cash\", 1001), (\"Accounts Receivable\", 1002),\n",
        "(\"Inventory\", 1003))\n",
        "for account in accounts:\n",
        "  print(\"Account name:\", account[0], \"Account number:\", account[1])"
      ],
      "metadata": {
        "id": "amf7EauUn5Wb"
      },
      "execution_count": null,
      "outputs": []
    },
    {
      "cell_type": "code",
      "source": [
        "# Python Sets\n",
        "account_numbers = {1001, 1002, 1003}\n",
        "new_account_number = 1004\n",
        "if new_account_number not in account_numbers:\n",
        "  print(\"Account number\", new_account_number, \"is not in use.\")"
      ],
      "metadata": {
        "id": "xZlpS5WHn7lr"
      },
      "execution_count": null,
      "outputs": []
    },
    {
      "cell_type": "code",
      "source": [],
      "metadata": {
        "id": "z2V7Wg-R1cIS"
      },
      "execution_count": null,
      "outputs": []
    },
    {
      "cell_type": "code",
      "source": [
        "# Python Dictionaries\n",
        "accounts = {\n",
        "    \"1001\": {\"name\": \"Cash\", \"balance\": 500.00, \"type\": \"Asset\"},\n",
        "    \"1002\": {\"name\": \"Accounts Receivable\", \"balance\": 1000.00, \"type\": \"Asset\"},\n",
        "    \"2001\": {\"name\": \"Accounts Payable\", \"balance\": 750.00, \"type\": \"Liability\"}\n",
        "    }\n",
        "for account_number, account_info in accounts.items():\n",
        "  print(\"Account number:\", account_number)\n",
        "  print(\"Account name:\", account_info[\"name\"])\n",
        "  print(\"Account balance:\", account_info[\"balance\"])\n",
        "  print(\"Account type:\", account_info[\"type\"])"
      ],
      "metadata": {
        "colab": {
          "base_uri": "https://localhost:8080/"
        },
        "id": "83YaXUKHn_LH",
        "outputId": "201af870-cd92-4748-b460-55990ba25214"
      },
      "execution_count": 5,
      "outputs": [
        {
          "output_type": "stream",
          "name": "stdout",
          "text": [
            "Account number: 1001\n",
            "Account name: Cash\n",
            "Account balance: 500.0\n",
            "Account type: Asset\n",
            "Account number: 1002\n",
            "Account name: Accounts Receivable\n",
            "Account balance: 1000.0\n",
            "Account type: Asset\n",
            "Account number: 2001\n",
            "Account name: Accounts Payable\n",
            "Account balance: 750.0\n",
            "Account type: Liability\n"
          ]
        }
      ]
    },
    {
      "cell_type": "markdown",
      "source": [
        "KẾT THÚC"
      ],
      "metadata": {
        "id": "E-eTp1Y-oftx"
      }
    },
    {
      "cell_type": "markdown",
      "source": [
        "##Python Control Logic and Loops"
      ],
      "metadata": {
        "id": "YGh7w7KAoOWk"
      }
    },
    {
      "cell_type": "code",
      "source": [
        "# Python if\n",
        "score = 80\n",
        "if score >=60 :\n",
        "  print(\"Pass\")"
      ],
      "metadata": {
        "id": "hNXoSgTsoUTF"
      },
      "execution_count": null,
      "outputs": []
    },
    {
      "cell_type": "code",
      "source": [
        "# Python if else\n",
        "score = 80\n",
        "if score >=60 :\n",
        "  print(\"Pass\")\n",
        "else:\n",
        "  print(\"Fail\")"
      ],
      "metadata": {
        "id": "CAM5mAaxocbp"
      },
      "execution_count": null,
      "outputs": []
    },
    {
      "cell_type": "code",
      "source": [
        "score = 95\n",
        "if score >= 90 :\n",
        "  print(\"A\")\n",
        "elif score >=60 :\n",
        "  print(\"Pass\")\n",
        "else:\n",
        "  print(\"Fail\")"
      ],
      "metadata": {
        "id": "rUz2ij7Foicv"
      },
      "execution_count": null,
      "outputs": []
    },
    {
      "cell_type": "code",
      "source": [
        "# Python if elif else\n",
        "score = 90\n",
        "grade = \"\"\n",
        "if score >=90:\n",
        "  grade = \"A\"\n",
        "elif score >= 80:\n",
        "  grade = \"B\"\n",
        "elif score >= 70:\n",
        "  grade = \"C\"\n",
        "elif score >= 60:\n",
        "  grade = \"D\"\n",
        "else:\n",
        "  grade = \"E\"\n",
        "print(grade)"
      ],
      "metadata": {
        "id": "Csr17aOuoxta"
      },
      "execution_count": null,
      "outputs": []
    },
    {
      "cell_type": "code",
      "source": [
        "for i in range(1,6):\n",
        "  print(i)"
      ],
      "metadata": {
        "id": "VJbhoFbHo8wt"
      },
      "execution_count": null,
      "outputs": []
    },
    {
      "cell_type": "code",
      "source": [
        "# for loops\n",
        "for i in range(1,10):\n",
        "  for j in range(1,10):\n",
        "    print(i, ' * ' , j , ' = ', i*j)"
      ],
      "metadata": {
        "id": "bmhjwYc9pBR8"
      },
      "execution_count": null,
      "outputs": []
    },
    {
      "cell_type": "code",
      "source": [
        "# while loops\n",
        "age = 10\n",
        "while age < 20:\n",
        "  print(age)\n",
        "  age = age + 1"
      ],
      "metadata": {
        "id": "coJgFSF7pKqK"
      },
      "execution_count": null,
      "outputs": []
    },
    {
      "cell_type": "markdown",
      "source": [
        "Kết thúc"
      ],
      "metadata": {
        "id": "ny1LjP4xt1EZ"
      }
    },
    {
      "cell_type": "markdown",
      "source": [
        "##PYTHON FUNCTION"
      ],
      "metadata": {
        "id": "97VsUZaptw47"
      }
    },
    {
      "cell_type": "code",
      "source": [
        "# Python Function def\n",
        "# indentation for blocks. four spaces\n",
        "def getfv(pv, r, n):\n",
        "  fv = pv * ((1 + (r)) ** n)\n",
        "  return fv\n",
        "fv = getfv(100, 0.1, 7)\n",
        "print(round(fv, 2))"
      ],
      "metadata": {
        "id": "kQANUWMSt30K"
      },
      "execution_count": null,
      "outputs": []
    },
    {
      "cell_type": "code",
      "source": [
        "# How much is your $100 worth after 7 years?\n",
        "fv = 100 * 1.1 ** 7\n",
        "print('fv = ', round(fv, 2))\n",
        "# output = 194.87"
      ],
      "metadata": {
        "id": "CW7pQqWbtzmv"
      },
      "execution_count": null,
      "outputs": []
    },
    {
      "cell_type": "code",
      "source": [
        "# Future Value\n",
        "pv = 100\n",
        "r = 0.1\n",
        "n = 7\n",
        "fv = pv * ((1 + (r)) ** n)\n",
        "print(round(fv, 2))"
      ],
      "metadata": {
        "id": "-uk7Ha6NuIjs"
      },
      "execution_count": null,
      "outputs": []
    },
    {
      "cell_type": "code",
      "source": [
        "# Future Value\n",
        "amount = 100\n",
        "interest = 10 #10% = 0.01 * 10\n",
        "years = 7\n",
        "\n",
        "future_value = amount * ((1 + (0.01 * interest)) ** years)\n",
        "print(round(future_value, 2))"
      ],
      "metadata": {
        "id": "mMmjVl5CuMjO"
      },
      "execution_count": null,
      "outputs": []
    },
    {
      "cell_type": "code",
      "source": [
        "# Python Function def\n",
        "# indentation for blocks. four spaces\n",
        "def getfv(pv, r, n):\n",
        "  fv = pv * ((1 + (r)) ** n)\n",
        "  return fv\n",
        "fv = getfv(100, 0.1, 7)\n",
        "print(round(fv, 2))"
      ],
      "metadata": {
        "id": "7epqU1TiuTf-"
      },
      "execution_count": null,
      "outputs": []
    },
    {
      "cell_type": "markdown",
      "source": [
        "Kết thúc"
      ],
      "metadata": {
        "id": "Tn29R-qhucI3"
      }
    },
    {
      "cell_type": "markdown",
      "source": [
        "##PYTHON CLASSES/ OBJECTS"
      ],
      "metadata": {
        "id": "xb_LsDH9udtK"
      }
    },
    {
      "cell_type": "code",
      "source": [
        "# Python class\n",
        "class MyClass:\n",
        "  x = 5\n",
        "c1 = MyClass()\n",
        "print(c1.x)"
      ],
      "metadata": {
        "id": "wvMk9SH1uogq"
      },
      "execution_count": null,
      "outputs": []
    },
    {
      "cell_type": "code",
      "source": [
        "class Person:\n",
        "  def __init__(self, name, age):\n",
        "    self.name = name\n",
        "    self.age = age\n",
        "p1 = Person(\"Alan\", 20)\n",
        "\n",
        "print(p1.name)\n",
        "print(p1.age)"
      ],
      "metadata": {
        "id": "GEEhpHaSut_G"
      },
      "execution_count": null,
      "outputs": []
    },
    {
      "cell_type": "code",
      "source": [
        "class Person:\n",
        "  def __init__(self, name, age):\n",
        "    self.name = name\n",
        "    self.age = age\n",
        "  def myfunc(self):\n",
        "    print(\"Hello my name is \" + self.name)\n",
        "p1 = Person(\"Alan\", 20)\n",
        "p1.myfunc()"
      ],
      "metadata": {
        "id": "njtz9xOcu6oj"
      },
      "execution_count": null,
      "outputs": []
    },
    {
      "cell_type": "code",
      "source": [
        "class Person:\n",
        "  def __init__(self, name, age):\n",
        "    self.name = name\n",
        "    self.age = age\n",
        "  def myfunc(self):\n",
        "    print(\"Hello my name is \" + self.name)\n",
        "\n",
        "p1 = Person(\"Alan\", 20)\n",
        "p1.myfunc()\n",
        "print(p1.name)\n",
        "print(p1.age)"
      ],
      "metadata": {
        "id": "vOu-IkL6vGFg"
      },
      "execution_count": null,
      "outputs": []
    },
    {
      "cell_type": "code",
      "source": [
        "class Vehicle:\n",
        "  name = \"\"\n",
        "  kind = \"car\"\n",
        "  color = \"\"\n",
        "  value = 100.00\n",
        "  def description(self):\n",
        "    desc_str = \"%s is a %s %s worth $%.2f.\" % (self.name, self.color, self.kind, self.value)\n",
        "    return desc_str"
      ],
      "metadata": {
        "id": "ZO6jiWdEvOcm"
      },
      "execution_count": null,
      "outputs": []
    },
    {
      "cell_type": "code",
      "source": [
        "car1 = Vehicle()\n",
        "car1.name = \"Fer\"\n",
        "car1.color = \"red\"\n",
        "car1.kind = \"convertible\"\n",
        "car1.value = 60000.00\n",
        "\n",
        "car2 = Vehicle()\n",
        "car2.name = \"Jump\"\n",
        "car2.color = \"blue\"\n",
        "car2.kind = \"van\"\n",
        "car2.value = 10000.00\n",
        "\n",
        "print(car1.description())\n",
        "print(car1.name)\n",
        "print(car2.description())\n",
        "print(car2.name)"
      ],
      "metadata": {
        "id": "bjQcKjWVvYr0"
      },
      "execution_count": null,
      "outputs": []
    },
    {
      "cell_type": "code",
      "source": [
        "class Vehicle:\n",
        "  name = \"\"\n",
        "  kind = \"car\"\n",
        "  color = \"\"\n",
        "  value = 100.00\n",
        "  def description(self):\n",
        "    desc_str = \"%s is a %s %s worth $%.2f.\" % (self.name, self.color, self.kind, self.value)\n",
        "    return desc_str"
      ],
      "metadata": {
        "id": "1RvAf2gPvbO2"
      },
      "execution_count": null,
      "outputs": []
    },
    {
      "cell_type": "markdown",
      "source": [
        "kết thúc"
      ],
      "metadata": {
        "id": "IrQHXP81vmCh"
      }
    },
    {
      "cell_type": "markdown",
      "source": [
        "##PYTHON MODULES"
      ],
      "metadata": {
        "id": "sb2gs7zxvn_F"
      }
    },
    {
      "cell_type": "code",
      "source": [
        "# mymodule.py\n",
        "def greeting(name):\n",
        "  print(\"Hello, \" + name)"
      ],
      "metadata": {
        "id": "_Agpd_KzvqPh"
      },
      "execution_count": null,
      "outputs": []
    },
    {
      "cell_type": "code",
      "source": [
        "import mymodule\n",
        "mymodule.greeting(\"Alan\")"
      ],
      "metadata": {
        "id": "iUs5nWQlvv0E"
      },
      "execution_count": null,
      "outputs": []
    },
    {
      "cell_type": "code",
      "source": [
        "# Python File Input / Output\n",
        "with open('myfile.txt', 'w') as file:\n",
        "  file.write('Hello World\\nThis is Python File Input Output')\n",
        "with open('myfile.txt', 'r') as file:\n",
        "  text = file.read()\n",
        "print(text)"
      ],
      "metadata": {
        "id": "PKMXv5v-wEXJ"
      },
      "execution_count": null,
      "outputs": []
    },
    {
      "cell_type": "code",
      "source": [
        "# Python File Input / Output\n",
        "filename = 'mymodule.py'\n",
        "with open(filename, 'w') as file:\n",
        "  text = '''def greeting(name):\n",
        "  print(\"Hello, \" + name)\n",
        "  '''\n",
        "  file.write(text)\n",
        "\n",
        "with open(filename, 'r') as file:\n",
        "  text = file.read()\n",
        "\n",
        "print(filename)\n",
        "print(text)"
      ],
      "metadata": {
        "id": "CQG5xoBGwPLU"
      },
      "execution_count": null,
      "outputs": []
    },
    {
      "cell_type": "code",
      "source": [
        "#Python main() function\n",
        "def main():\n",
        "  print(\"Hello World!\")\n",
        "\n",
        "if __name__ == \"__main__\":\n",
        "  main()"
      ],
      "metadata": {
        "id": "KbGndm3exK5X"
      },
      "execution_count": null,
      "outputs": []
    },
    {
      "cell_type": "markdown",
      "source": [
        "##FILES AND EXCEPTION HANDLING"
      ],
      "metadata": {
        "id": "1chCCWNpxTRO"
      }
    },
    {
      "cell_type": "code",
      "source": [
        "f = open(\"myfile.txt\", \"w\")\n",
        "f.write(\"Hello World\")\n",
        "f.close()\n",
        "\n",
        "f = open(\"myfile.txt\", \"r\")\n",
        "text = f.read()\n",
        "print(text)\n",
        "f.close()"
      ],
      "metadata": {
        "id": "LtpEq4G8xRx2"
      },
      "execution_count": null,
      "outputs": []
    },
    {
      "cell_type": "code",
      "source": [
        "with open('myfile.txt', 'w') as file:\n",
        "  file.write('Hello World')\n",
        "\n",
        "with open('myfile.txt', 'r') as file:\n",
        "  text = file.read()\n",
        "print(text)"
      ],
      "metadata": {
        "id": "oOcJmhiFxoqZ"
      },
      "execution_count": null,
      "outputs": []
    },
    {
      "cell_type": "code",
      "source": [
        "# Python File Input / Output\n",
        "with open('myfile.txt', 'w') as file:\n",
        "  file.write('Hello World\\nPython File IO')\n",
        "\n",
        "with open('myfile.txt', 'r') as file:\n",
        "  text = file.read()\n",
        "print(text)"
      ],
      "metadata": {
        "id": "LpsbZ4bUx9PP"
      },
      "execution_count": null,
      "outputs": []
    },
    {
      "cell_type": "code",
      "source": [
        "# Python File Input / Output\n",
        "with open('myfile.txt', 'a+') as file:\n",
        "  file.write('\\n' + 'New line')\n",
        "\n",
        "with open('myfile.txt', 'r') as file:\n",
        "  text = file.read()\n",
        "print(text)"
      ],
      "metadata": {
        "id": "KdTHPqVwyLkg"
      },
      "execution_count": null,
      "outputs": []
    },
    {
      "cell_type": "code",
      "source": [
        "# !ls list files\n",
        "!ls"
      ],
      "metadata": {
        "id": "58zHJORIyUWF"
      },
      "execution_count": null,
      "outputs": []
    },
    {
      "cell_type": "code",
      "source": [
        "#Python OS, IO, files, and Google Drive\n",
        "import os\n",
        "\n",
        "cwd = os.getcwd()\n",
        "print(cwd)"
      ],
      "metadata": {
        "id": "C8M_SvjwyePS"
      },
      "execution_count": null,
      "outputs": []
    },
    {
      "cell_type": "code",
      "source": [
        "os.listdir(cwd)"
      ],
      "metadata": {
        "id": "T9uBP0f3yleg"
      },
      "execution_count": null,
      "outputs": []
    },
    {
      "cell_type": "code",
      "source": [
        "path = os.path.join(cwd,'sample_data')\n",
        "\n",
        "print(path)\n",
        "os.listdir(path)"
      ],
      "metadata": {
        "id": "XlGmli2myuDa"
      },
      "execution_count": null,
      "outputs": []
    },
    {
      "cell_type": "code",
      "source": [
        "from google.colab import files\n",
        "\n",
        "with open('io_file_myday.txt', 'w') as f:\n",
        "  f.write('Google Colab File Write Text some content Myday')\n",
        "\n",
        "import time\n",
        "time.sleep(1) # time sleep 1 second\n",
        "\n",
        "files.download('io_file_myday.txt')\n",
        "print('downloaded')"
      ],
      "metadata": {
        "id": "HuRhHEw_yyzp"
      },
      "execution_count": null,
      "outputs": []
    },
    {
      "cell_type": "code",
      "source": [
        "from google.colab import files\n",
        "uploaded = files.upload()\n",
        "\n",
        "for fn in uploaded.keys():\n",
        "  print('User uploaded file \"{name}\" with length {length} bytes'.format(name=fn, length=len(uploaded[fn])))"
      ],
      "metadata": {
        "id": "I8szm8o6y3gF"
      },
      "execution_count": null,
      "outputs": []
    },
    {
      "cell_type": "code",
      "source": [
        "import os\n",
        "if os.path.exists(\"myfile.txt\"):\n",
        "  os.remove(\"myfile.txt\")\n",
        "  print(\"myfile.txt removed\")\n",
        "else:\n",
        "  print(\"The file does not exist\")"
      ],
      "metadata": {
        "id": "RPVy1KZgzDKQ"
      },
      "execution_count": null,
      "outputs": []
    },
    {
      "cell_type": "code",
      "source": [
        "import os\n",
        "os.listdir()\n",
        "os.mkdir(\"myfolder1\")\n",
        "os.listdir()\n",
        "os.rmdir(\"myfolder1\")\n",
        "os.listdir()"
      ],
      "metadata": {
        "id": "Pw6Kqq5-zJoj"
      },
      "execution_count": null,
      "outputs": []
    },
    {
      "cell_type": "code",
      "source": [
        "#Python try except\n",
        "try:\n",
        "  print(x)\n",
        "except:\n",
        "  print(\"Exception Error\")"
      ],
      "metadata": {
        "id": "Oqz1FrF9zMyY"
      },
      "execution_count": null,
      "outputs": []
    },
    {
      "cell_type": "code",
      "source": [
        "#Python try except finally\n",
        "try:\n",
        "  print(\"Hello\")\n",
        "except:\n",
        "  print(\"Exception Error\")\n",
        "finally:\n",
        "  print(\"Finally process\")"
      ],
      "metadata": {
        "id": "Pdz_S7s0zTRU"
      },
      "execution_count": null,
      "outputs": []
    },
    {
      "cell_type": "code",
      "source": [
        "#Python try except else\n",
        "try:\n",
        "  print(\"Hello\")\n",
        "except:\n",
        "  print(\"Exception Error\")\n",
        "else:\n",
        "  print(\"No exception\")"
      ],
      "metadata": {
        "id": "O3IGjlBbzZJc"
      },
      "execution_count": null,
      "outputs": []
    },
    {
      "cell_type": "code",
      "source": [
        "try:\n",
        "  print(\"Hello\")\n",
        "except:\n",
        "  print(\"Exception Error\")\n",
        "else:\n",
        "  print(\"No exception\")\n",
        "finally:\n",
        "  print(\"Finally process\")"
      ],
      "metadata": {
        "id": "a0ELwHbKzgrv"
      },
      "execution_count": null,
      "outputs": []
    },
    {
      "cell_type": "code",
      "source": [
        "try:\n",
        "  price = float(input(\"Enter the price of the stock (e.g. 10):\"))\n",
        "  shares = int(input(\"Enter the number of shares (e.g. 2):\"))\n",
        "  total = price * shares\n",
        "except Exception as e:\n",
        "  print(\"Exception error:\", str(e))\n",
        "else:\n",
        "  print(\"The total value of the shares is:\", total)\n",
        "finally:\n",
        "  print(\"Thank you.\")"
      ],
      "metadata": {
        "id": "rquAKD5WzoG4"
      },
      "execution_count": null,
      "outputs": []
    },
    {
      "cell_type": "code",
      "source": [
        "try:\n",
        "  file = open(\"myfile.txt\")\n",
        "  file.write(\"Python write file\")\n",
        "  print(\"file saved\")\n",
        "except:\n",
        "  print(\"Exception file Error\")"
      ],
      "metadata": {
        "id": "ZglTKO69zwH2"
      },
      "execution_count": null,
      "outputs": []
    },
    {
      "cell_type": "code",
      "source": [
        "try:\n",
        "  file = open(\"myfile.txt\")\n",
        "  file.write(\"Python write file\")\n",
        "  print(\"file saved\")\n",
        "except:\n",
        "  print(\"Exception file Error\")\n",
        "finally:\n",
        "  file.close()\n",
        "  print(\"Finally process\")"
      ],
      "metadata": {
        "id": "Hex5Wg31z2Hb"
      },
      "execution_count": null,
      "outputs": []
    },
    {
      "cell_type": "code",
      "source": [
        "try:\n",
        "  file = open (\"myfile.txt\", 'w')\n",
        "  file.write(\"Python write file\")\n",
        "  print(\"file saved\")\n",
        "except:\n",
        "  print(\"Exception file Error\")\n",
        "finally:\n",
        "  file.close()\n",
        "print(\"Finally process\")"
      ],
      "metadata": {
        "id": "GLAwtyOHz8qc"
      },
      "execution_count": null,
      "outputs": []
    },
    {
      "cell_type": "markdown",
      "source": [
        "KẾT THÚC"
      ],
      "metadata": {
        "id": "1yGRWFbT1fn_"
      }
    }
  ]
}