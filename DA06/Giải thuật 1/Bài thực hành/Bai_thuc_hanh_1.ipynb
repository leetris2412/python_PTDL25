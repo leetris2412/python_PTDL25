{
 "cells": [
  {
   "cell_type": "markdown",
   "id": "04d5bd28",
   "metadata": {},
   "source": [
    "# Xây dựng cây quyết định và rừng cây trên dữ liệu Titanic lấy từ"
   ]
  },
  {
   "cell_type": "code",
   "execution_count": 2,
   "id": "fff18090",
   "metadata": {},
   "outputs": [],
   "source": [
    "# import libraries\n",
    "import numpy as np                 \n",
    "import pandas as pd               \n",
    "import matplotlib.pyplot as plt    \n",
    "import seaborn as sns\n",
    "\n",
    "from sklearn.model_selection import train_test_split   \n",
    "from sklearn.model_selection import GridSearchCV     \n",
    "from sklearn import tree                            \n",
    "from sklearn.ensemble import RandomForestClassifier    \n",
    "from sklearn.metrics import accuracy_score, roc_auc_score"
   ]
  },
  {
   "cell_type": "markdown",
   "id": "62cec51d",
   "metadata": {},
   "source": [
    "##### nạp dữ liệu "
   ]
  },
  {
   "cell_type": "code",
   "execution_count": 11,
   "id": "c0835ee6",
   "metadata": {},
   "outputs": [
    {
     "data": {
      "text/html": [
       "<div>\n",
       "<style scoped>\n",
       "    .dataframe tbody tr th:only-of-type {\n",
       "        vertical-align: middle;\n",
       "    }\n",
       "\n",
       "    .dataframe tbody tr th {\n",
       "        vertical-align: top;\n",
       "    }\n",
       "\n",
       "    .dataframe thead th {\n",
       "        text-align: right;\n",
       "    }\n",
       "</style>\n",
       "<table border=\"1\" class=\"dataframe\">\n",
       "  <thead>\n",
       "    <tr style=\"text-align: right;\">\n",
       "      <th></th>\n",
       "      <th>PassengerId</th>\n",
       "      <th>Survived</th>\n",
       "      <th>Pclass</th>\n",
       "      <th>Name</th>\n",
       "      <th>Sex</th>\n",
       "      <th>Age</th>\n",
       "      <th>SibSp</th>\n",
       "      <th>Parch</th>\n",
       "      <th>Ticket</th>\n",
       "      <th>Fare</th>\n",
       "      <th>Cabin</th>\n",
       "      <th>Embarked</th>\n",
       "    </tr>\n",
       "  </thead>\n",
       "  <tbody>\n",
       "    <tr>\n",
       "      <th>0</th>\n",
       "      <td>1</td>\n",
       "      <td>0</td>\n",
       "      <td>3</td>\n",
       "      <td>Braund, Mr. Owen Harris</td>\n",
       "      <td>male</td>\n",
       "      <td>22.0</td>\n",
       "      <td>1</td>\n",
       "      <td>0</td>\n",
       "      <td>A/5 21171</td>\n",
       "      <td>7.2500</td>\n",
       "      <td>NaN</td>\n",
       "      <td>S</td>\n",
       "    </tr>\n",
       "    <tr>\n",
       "      <th>1</th>\n",
       "      <td>2</td>\n",
       "      <td>1</td>\n",
       "      <td>1</td>\n",
       "      <td>Cumings, Mrs. John Bradley (Florence Briggs Th...</td>\n",
       "      <td>female</td>\n",
       "      <td>38.0</td>\n",
       "      <td>1</td>\n",
       "      <td>0</td>\n",
       "      <td>PC 17599</td>\n",
       "      <td>71.2833</td>\n",
       "      <td>C85</td>\n",
       "      <td>C</td>\n",
       "    </tr>\n",
       "    <tr>\n",
       "      <th>2</th>\n",
       "      <td>3</td>\n",
       "      <td>1</td>\n",
       "      <td>3</td>\n",
       "      <td>Heikkinen, Miss. Laina</td>\n",
       "      <td>female</td>\n",
       "      <td>26.0</td>\n",
       "      <td>0</td>\n",
       "      <td>0</td>\n",
       "      <td>STON/O2. 3101282</td>\n",
       "      <td>7.9250</td>\n",
       "      <td>NaN</td>\n",
       "      <td>S</td>\n",
       "    </tr>\n",
       "    <tr>\n",
       "      <th>3</th>\n",
       "      <td>4</td>\n",
       "      <td>1</td>\n",
       "      <td>1</td>\n",
       "      <td>Futrelle, Mrs. Jacques Heath (Lily May Peel)</td>\n",
       "      <td>female</td>\n",
       "      <td>35.0</td>\n",
       "      <td>1</td>\n",
       "      <td>0</td>\n",
       "      <td>113803</td>\n",
       "      <td>53.1000</td>\n",
       "      <td>C123</td>\n",
       "      <td>S</td>\n",
       "    </tr>\n",
       "    <tr>\n",
       "      <th>4</th>\n",
       "      <td>5</td>\n",
       "      <td>0</td>\n",
       "      <td>3</td>\n",
       "      <td>Allen, Mr. William Henry</td>\n",
       "      <td>male</td>\n",
       "      <td>35.0</td>\n",
       "      <td>0</td>\n",
       "      <td>0</td>\n",
       "      <td>373450</td>\n",
       "      <td>8.0500</td>\n",
       "      <td>NaN</td>\n",
       "      <td>S</td>\n",
       "    </tr>\n",
       "  </tbody>\n",
       "</table>\n",
       "</div>"
      ],
      "text/plain": [
       "   PassengerId  Survived  Pclass  \\\n",
       "0            1         0       3   \n",
       "1            2         1       1   \n",
       "2            3         1       3   \n",
       "3            4         1       1   \n",
       "4            5         0       3   \n",
       "\n",
       "                                                Name     Sex   Age  SibSp  \\\n",
       "0                            Braund, Mr. Owen Harris    male  22.0      1   \n",
       "1  Cumings, Mrs. John Bradley (Florence Briggs Th...  female  38.0      1   \n",
       "2                             Heikkinen, Miss. Laina  female  26.0      0   \n",
       "3       Futrelle, Mrs. Jacques Heath (Lily May Peel)  female  35.0      1   \n",
       "4                           Allen, Mr. William Henry    male  35.0      0   \n",
       "\n",
       "   Parch            Ticket     Fare Cabin Embarked  \n",
       "0      0         A/5 21171   7.2500   NaN        S  \n",
       "1      0          PC 17599  71.2833   C85        C  \n",
       "2      0  STON/O2. 3101282   7.9250   NaN        S  \n",
       "3      0            113803  53.1000  C123        S  \n",
       "4      0            373450   8.0500   NaN        S  "
      ]
     },
     "execution_count": 11,
     "metadata": {},
     "output_type": "execute_result"
    }
   ],
   "source": [
    "df = pd.read_csv('datasets/train.csv')\n",
    "df.head()"
   ]
  },
  {
   "cell_type": "markdown",
   "id": "7acabfd5",
   "metadata": {},
   "source": [
    "#### Tiền xử lý dữ liệu"
   ]
  },
  {
   "cell_type": "code",
   "execution_count": 12,
   "id": "93c0e69c",
   "metadata": {},
   "outputs": [
    {
     "data": {
      "text/html": [
       "<div>\n",
       "<style scoped>\n",
       "    .dataframe tbody tr th:only-of-type {\n",
       "        vertical-align: middle;\n",
       "    }\n",
       "\n",
       "    .dataframe tbody tr th {\n",
       "        vertical-align: top;\n",
       "    }\n",
       "\n",
       "    .dataframe thead th {\n",
       "        text-align: right;\n",
       "    }\n",
       "</style>\n",
       "<table border=\"1\" class=\"dataframe\">\n",
       "  <thead>\n",
       "    <tr style=\"text-align: right;\">\n",
       "      <th></th>\n",
       "      <th>Pclass</th>\n",
       "      <th>Sex</th>\n",
       "      <th>Age</th>\n",
       "      <th>SibSp</th>\n",
       "      <th>Parch</th>\n",
       "      <th>Fare</th>\n",
       "      <th>Embarked</th>\n",
       "      <th>Survived</th>\n",
       "    </tr>\n",
       "  </thead>\n",
       "  <tbody>\n",
       "    <tr>\n",
       "      <th>0</th>\n",
       "      <td>3</td>\n",
       "      <td>male</td>\n",
       "      <td>22.0</td>\n",
       "      <td>1</td>\n",
       "      <td>0</td>\n",
       "      <td>7.2500</td>\n",
       "      <td>S</td>\n",
       "      <td>0</td>\n",
       "    </tr>\n",
       "    <tr>\n",
       "      <th>1</th>\n",
       "      <td>1</td>\n",
       "      <td>female</td>\n",
       "      <td>38.0</td>\n",
       "      <td>1</td>\n",
       "      <td>0</td>\n",
       "      <td>71.2833</td>\n",
       "      <td>C</td>\n",
       "      <td>1</td>\n",
       "    </tr>\n",
       "    <tr>\n",
       "      <th>2</th>\n",
       "      <td>3</td>\n",
       "      <td>female</td>\n",
       "      <td>26.0</td>\n",
       "      <td>0</td>\n",
       "      <td>0</td>\n",
       "      <td>7.9250</td>\n",
       "      <td>S</td>\n",
       "      <td>1</td>\n",
       "    </tr>\n",
       "    <tr>\n",
       "      <th>3</th>\n",
       "      <td>1</td>\n",
       "      <td>female</td>\n",
       "      <td>35.0</td>\n",
       "      <td>1</td>\n",
       "      <td>0</td>\n",
       "      <td>53.1000</td>\n",
       "      <td>S</td>\n",
       "      <td>1</td>\n",
       "    </tr>\n",
       "    <tr>\n",
       "      <th>4</th>\n",
       "      <td>3</td>\n",
       "      <td>male</td>\n",
       "      <td>35.0</td>\n",
       "      <td>0</td>\n",
       "      <td>0</td>\n",
       "      <td>8.0500</td>\n",
       "      <td>S</td>\n",
       "      <td>0</td>\n",
       "    </tr>\n",
       "  </tbody>\n",
       "</table>\n",
       "</div>"
      ],
      "text/plain": [
       "   Pclass     Sex   Age  SibSp  Parch     Fare Embarked  Survived\n",
       "0       3    male  22.0      1      0   7.2500        S         0\n",
       "1       1  female  38.0      1      0  71.2833        C         1\n",
       "2       3  female  26.0      0      0   7.9250        S         1\n",
       "3       1  female  35.0      1      0  53.1000        S         1\n",
       "4       3    male  35.0      0      0   8.0500        S         0"
      ]
     },
     "execution_count": 12,
     "metadata": {},
     "output_type": "execute_result"
    }
   ],
   "source": [
    "# 1. Chọn các cột đặc trưng (features) và cột mục tiêu (target)\n",
    "# Chúng ta sẽ dự đoán 'Survived'\n",
    "# Dựa trên: Pclass, Sex, Age, SibSp (anh chị em/vợ chồng), Parch (cha mẹ/con cái), Fare, Embarked\n",
    "features = ['Pclass', 'Sex', 'Age', 'SibSp', 'Parch', 'Fare', 'Embarked']\n",
    "target = 'Survived'\n",
    "\n",
    "df_processed = df[features + [target]].copy() # Tạo bản sao để xử lý\n",
    "df_processed.head()"
   ]
  },
  {
   "cell_type": "code",
   "execution_count": 13,
   "id": "68a48585",
   "metadata": {},
   "outputs": [
    {
     "data": {
      "text/plain": [
       "Pclass        0\n",
       "Sex           0\n",
       "Age         177\n",
       "SibSp         0\n",
       "Parch         0\n",
       "Fare          0\n",
       "Embarked      2\n",
       "Survived      0\n",
       "dtype: int64"
      ]
     },
     "execution_count": 13,
     "metadata": {},
     "output_type": "execute_result"
    }
   ],
   "source": [
    "df_processed.isnull().sum()"
   ]
  },
  {
   "cell_type": "code",
   "execution_count": 14,
   "id": "6e67793f",
   "metadata": {},
   "outputs": [
    {
     "name": "stdout",
     "output_type": "stream",
     "text": [
      "Đã điền giá trị thiếu cho 'Age' bằng: 28.0\n",
      "Đã điền giá trị thiếu cho 'Embarked' bằng: S\n"
     ]
    }
   ],
   "source": [
    "# 2. Xử lý giá trị thiếu (Missing Values)\n",
    "# 2.1. Cột 'Age': Điền tuổi trung bình vào các ô bị thiếu\n",
    "# Dùng .median() (trung vị) sẽ tốt hơn .mean() (trung bình) vì ít bị ảnh hưởng bởi các giá trị ngoại lai\n",
    "age_median = df_processed['Age'].median()\n",
    "df_processed['Age'] = df_processed['Age'].fillna(age_median)\n",
    "print(f\"Đã điền giá trị thiếu cho 'Age' bằng: {age_median}\")\n",
    "\n",
    "# 2.2. Cột 'Embarked': Điền giá trị xuất hiện nhiều nhất (mode)\n",
    "embarked_mode = df_processed['Embarked'].mode()[0] # [0] vì mode() trả về 1 Series\n",
    "df_processed['Embarked'] = df_processed['Embarked'].fillna(embarked_mode)\n",
    "print(f\"Đã điền giá trị thiếu cho 'Embarked' bằng: {embarked_mode}\")"
   ]
  },
  {
   "cell_type": "code",
   "execution_count": 15,
   "id": "702fa02a",
   "metadata": {},
   "outputs": [],
   "source": [
    "# 3. Mã hóa các biến phân loại (Categorical Encoding)\n",
    "# Máy tính không hiểu chữ 'male', 'female'. Phải đổi sang số.\n",
    "# 3.1. Cột 'Sex': Dùng .map()\n",
    "df_processed['Sex'] = df_processed['Sex'].map({'male': 0, 'female': 1})\n",
    "\n",
    "# 3.2. Cột 'Embarked': Dùng pd.get_dummies()\n",
    "# Cột này có 3 giá trị (S, C, Q). Chúng ta sẽ tạo 3 cột mới (0 hoặc 1)\n",
    "df_processed = pd.get_dummies(df_processed, columns=['Embarked'], drop_first=True)"
   ]
  },
  {
   "cell_type": "code",
   "execution_count": 16,
   "id": "50df60c3",
   "metadata": {},
   "outputs": [
    {
     "data": {
      "text/html": [
       "<div>\n",
       "<style scoped>\n",
       "    .dataframe tbody tr th:only-of-type {\n",
       "        vertical-align: middle;\n",
       "    }\n",
       "\n",
       "    .dataframe tbody tr th {\n",
       "        vertical-align: top;\n",
       "    }\n",
       "\n",
       "    .dataframe thead th {\n",
       "        text-align: right;\n",
       "    }\n",
       "</style>\n",
       "<table border=\"1\" class=\"dataframe\">\n",
       "  <thead>\n",
       "    <tr style=\"text-align: right;\">\n",
       "      <th></th>\n",
       "      <th>Pclass</th>\n",
       "      <th>Sex</th>\n",
       "      <th>Age</th>\n",
       "      <th>SibSp</th>\n",
       "      <th>Parch</th>\n",
       "      <th>Fare</th>\n",
       "      <th>Survived</th>\n",
       "      <th>Embarked_Q</th>\n",
       "      <th>Embarked_S</th>\n",
       "    </tr>\n",
       "  </thead>\n",
       "  <tbody>\n",
       "    <tr>\n",
       "      <th>0</th>\n",
       "      <td>3</td>\n",
       "      <td>0</td>\n",
       "      <td>22.0</td>\n",
       "      <td>1</td>\n",
       "      <td>0</td>\n",
       "      <td>7.2500</td>\n",
       "      <td>0</td>\n",
       "      <td>False</td>\n",
       "      <td>True</td>\n",
       "    </tr>\n",
       "    <tr>\n",
       "      <th>1</th>\n",
       "      <td>1</td>\n",
       "      <td>1</td>\n",
       "      <td>38.0</td>\n",
       "      <td>1</td>\n",
       "      <td>0</td>\n",
       "      <td>71.2833</td>\n",
       "      <td>1</td>\n",
       "      <td>False</td>\n",
       "      <td>False</td>\n",
       "    </tr>\n",
       "    <tr>\n",
       "      <th>2</th>\n",
       "      <td>3</td>\n",
       "      <td>1</td>\n",
       "      <td>26.0</td>\n",
       "      <td>0</td>\n",
       "      <td>0</td>\n",
       "      <td>7.9250</td>\n",
       "      <td>1</td>\n",
       "      <td>False</td>\n",
       "      <td>True</td>\n",
       "    </tr>\n",
       "    <tr>\n",
       "      <th>3</th>\n",
       "      <td>1</td>\n",
       "      <td>1</td>\n",
       "      <td>35.0</td>\n",
       "      <td>1</td>\n",
       "      <td>0</td>\n",
       "      <td>53.1000</td>\n",
       "      <td>1</td>\n",
       "      <td>False</td>\n",
       "      <td>True</td>\n",
       "    </tr>\n",
       "    <tr>\n",
       "      <th>4</th>\n",
       "      <td>3</td>\n",
       "      <td>0</td>\n",
       "      <td>35.0</td>\n",
       "      <td>0</td>\n",
       "      <td>0</td>\n",
       "      <td>8.0500</td>\n",
       "      <td>0</td>\n",
       "      <td>False</td>\n",
       "      <td>True</td>\n",
       "    </tr>\n",
       "  </tbody>\n",
       "</table>\n",
       "</div>"
      ],
      "text/plain": [
       "   Pclass  Sex   Age  SibSp  Parch     Fare  Survived  Embarked_Q  Embarked_S\n",
       "0       3    0  22.0      1      0   7.2500         0       False        True\n",
       "1       1    1  38.0      1      0  71.2833         1       False       False\n",
       "2       3    1  26.0      0      0   7.9250         1       False        True\n",
       "3       1    1  35.0      1      0  53.1000         1       False        True\n",
       "4       3    0  35.0      0      0   8.0500         0       False        True"
      ]
     },
     "execution_count": 16,
     "metadata": {},
     "output_type": "execute_result"
    }
   ],
   "source": [
    "df_processed.head()"
   ]
  },
  {
   "cell_type": "code",
   "execution_count": 17,
   "id": "1c7fe045",
   "metadata": {},
   "outputs": [
    {
     "data": {
      "text/plain": [
       "Pclass        0\n",
       "Sex           0\n",
       "Age           0\n",
       "SibSp         0\n",
       "Parch         0\n",
       "Fare          0\n",
       "Survived      0\n",
       "Embarked_Q    0\n",
       "Embarked_S    0\n",
       "dtype: int64"
      ]
     },
     "execution_count": 17,
     "metadata": {},
     "output_type": "execute_result"
    }
   ],
   "source": [
    "df_processed.isnull().sum()"
   ]
  },
  {
   "cell_type": "markdown",
   "id": "c81d31b8",
   "metadata": {},
   "source": [
    "#### Chuẩn bị dữ liệu cho tập train và test"
   ]
  },
  {
   "cell_type": "code",
   "execution_count": 19,
   "id": "f8dea8d5",
   "metadata": {},
   "outputs": [],
   "source": [
    "# Lấy danh sách các cột đặc trưng sau khi đã xử lý\n",
    "# (Cột 'Embarked' đã bị thay thế bởi 'Embarked_Q' và 'Embarked_S')\n",
    "processed_feature_names = df_processed.drop(target, axis=1).columns.tolist()\n",
    "\n",
    "# Tách X (features) và y (target)\n",
    "X = df_processed[processed_feature_names].values\n",
    "y = df_processed[target].values\n",
    "\n",
    "# Chia dữ liệu: 80% train, 20% test\n",
    "X_train, X_test, y_train, y_test = train_test_split(\n",
    "    X, y,\n",
    "    test_size=0.2,       \n",
    "    random_state=24      \n",
    ")"
   ]
  },
  {
   "cell_type": "markdown",
   "id": "e883236c",
   "metadata": {},
   "source": [
    "#### Xây dựng cây quyết định"
   ]
  },
  {
   "cell_type": "code",
   "execution_count": 22,
   "id": "46576da0",
   "metadata": {},
   "outputs": [
    {
     "name": "stdout",
     "output_type": "stream",
     "text": [
      "\n",
      "--- Cây quyết định đơn giản (max_depth=3) ---\n",
      "Độ chính xác (Accuracy) trên tập train: 0.8188\n",
      "Độ chính xác (Accuracy) trên tập test:  0.8156\n"
     ]
    }
   ],
   "source": [
    "# 1. Tạo Cây quyết định\n",
    "# Tạo 1 cây đơn giản với max_depth=3 để xem thử\n",
    "dt_simple = tree.DecisionTreeClassifier(max_depth=3)\n",
    "dt_simple.fit(X_train, y_train)\n",
    "\n",
    "print(\"\\n--- Cây quyết định đơn giản (max_depth=3) ---\")\n",
    "print(f\"Độ chính xác (Accuracy) trên tập train: {dt_simple.score(X_train, y_train):.4f}\")\n",
    "print(f\"Độ chính xác (Accuracy) trên tập test:  {dt_simple.score(X_test, y_test):.4f}\")"
   ]
  },
  {
   "cell_type": "code",
   "execution_count": 23,
   "id": "96913c80",
   "metadata": {},
   "outputs": [
    {
     "name": "stdout",
     "output_type": "stream",
     "text": [
      "Fitting 4 folds for each of 8 candidates, totalling 32 fits\n",
      "Tham số max_depth tốt nhất tìm được: {'max_depth': 4}\n",
      "Độ chính xác (Accuracy) tốt nhất trên tập test: 0.8156\n"
     ]
    }
   ],
   "source": [
    "# 2. Tối ưu Cây quyết định \n",
    "# Chúng ta sẽ dùng GridSearchCV để tìm 'max_depth' tốt nhất\n",
    "dt = tree.DecisionTreeClassifier()\n",
    "params = {'max_depth': [2, 3, 4, 5, 6, 8, 10, 12]} \n",
    "\n",
    "cv_dt = GridSearchCV(dt, param_grid=params, scoring='accuracy', cv=4, verbose=1)\n",
    "cv_dt.fit(X_train, y_train)\n",
    "\n",
    "print(f\"Tham số max_depth tốt nhất tìm được: {cv_dt.best_params_}\")\n",
    "print(f\"Độ chính xác (Accuracy) tốt nhất trên tập test: {cv_dt.score(X_test, y_test):.4f}\")"
   ]
  },
  {
   "cell_type": "code",
   "execution_count": 24,
   "id": "28572f9c",
   "metadata": {},
   "outputs": [],
   "source": [
    "# Lấy ra mô hình tốt nhất\n",
    "best_dt = cv_dt.best_estimator_"
   ]
  },
  {
   "cell_type": "markdown",
   "id": "e5c07aa0",
   "metadata": {},
   "source": [
    "#### Xây dựng rừng cây"
   ]
  },
  {
   "cell_type": "code",
   "execution_count": 25,
   "id": "1b0ec7b8",
   "metadata": {},
   "outputs": [
    {
     "name": "stdout",
     "output_type": "stream",
     "text": [
      "Fitting 4 folds for each of 10 candidates, totalling 40 fits\n",
      "Tham số n_estimators tốt nhất tìm được: {'n_estimators': 30}\n",
      "Độ chính xác (Accuracy) tốt nhất trên tập test: 0.8101\n"
     ]
    }
   ],
   "source": [
    "# Tạo mô hình Rừng cây \n",
    "rf = RandomForestClassifier(random_state=4) \n",
    "\n",
    "# Xác định lưới tham số để tìm kiếm \n",
    "# Tìm số cây (n_estimators) từ 10 đến 100\n",
    "rf_params = {'n_estimators': [10, 20, 30, 40, 50, 60, 70, 80, 90, 100]}\n",
    "# Tạo đối tượng GridSearchCV\n",
    "cv_rf = GridSearchCV(rf, param_grid=rf_params, scoring='accuracy', cv=4, verbose=1) \n",
    "cv_rf.fit(X_train, y_train) \n",
    "\n",
    "print(f\"Tham số n_estimators tốt nhất tìm được: {cv_rf.best_params_}\")\n",
    "print(f\"Độ chính xác (Accuracy) tốt nhất trên tập test: {cv_rf.score(X_test, y_test):.4f}\")\n",
    "\n",
    "# Lấy ra mô hình tốt nhất\n",
    "best_rf = cv_rf.best_estimator_"
   ]
  },
  {
   "cell_type": "markdown",
   "id": "a4794671",
   "metadata": {},
   "source": [
    "#### Đánh giá mô hình"
   ]
  },
  {
   "cell_type": "code",
   "execution_count": null,
   "id": "73722cb9",
   "metadata": {},
   "outputs": [
    {
     "name": "stdout",
     "output_type": "stream",
     "text": [
      "      Feature  Importance\n",
      "5        Fare    0.284666\n",
      "2         Age    0.268415\n",
      "1         Sex    0.250531\n",
      "0      Pclass    0.072905\n",
      "3       SibSp    0.050149\n",
      "4       Parch    0.043283\n",
      "7  Embarked_S    0.020230\n",
      "6  Embarked_Q    0.009821\n"
     ]
    }
   ],
   "source": [
    "# Lấy độ quan trọng của các đặc trưng từ mô hình tốt nhất \n",
    "importances = best_rf.feature_importances_\n",
    "\n",
    "# Tạo DataFrame để xem cho dễ \n",
    "feat_imp_df = pd.DataFrame({\n",
    "    'Feature': processed_feature_names,\n",
    "    'Importance': importances\n",
    "})\n",
    "\n",
    "feat_imp_df = feat_imp_df.sort_values(by='Importance', ascending=False)\n",
    "print(feat_imp_df)"
   ]
  },
  {
   "cell_type": "code",
   "execution_count": 27,
   "id": "2e4dde38",
   "metadata": {},
   "outputs": [
    {
     "data": {
      "image/png": "[encoded data removed]",
      "text/plain": [
       "<Figure size 1000x600 with 1 Axes>"
      ]
     },
     "metadata": {},
     "output_type": "display_data"
    }
   ],
   "source": [
    "# Vẽ biểu đồ\n",
    "plt.figure(figsize=(10, 6))\n",
    "sns.barplot(x='Importance', y='Feature', data=feat_imp_df)\n",
    "plt.title('Mức độ quan trọng của các đặc trưng (Random Forest)')\n",
    "plt.show()"
   ]
  },
  {
   "cell_type": "markdown",
   "id": "0eea848c",
   "metadata": {},
   "source": [
    "Kết thúc"
   ]
  }
 ],
 "metadata": {
  "kernelspec": {
   "display_name": "base",
   "language": "python",
   "name": "python3"
  },
  "language_info": {
   "codemirror_mode": {
    "name": "ipython",
    "version": 3
   },
   "file_extension": ".py",
   "mimetype": "text/x-python",
   "name": "python",
   "nbconvert_exporter": "python",
   "pygments_lexer": "ipython3",
   "version": "3.11.13"
  }
 },
 "nbformat": 4,
 "nbformat_minor": 5
}
