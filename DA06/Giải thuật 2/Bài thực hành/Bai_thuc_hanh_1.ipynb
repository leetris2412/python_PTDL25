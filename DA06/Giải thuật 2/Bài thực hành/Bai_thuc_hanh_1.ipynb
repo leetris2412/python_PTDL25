{
 "cells": [
  {
   "cell_type": "markdown",
   "id": "bdef5d87",
   "metadata": {},
   "source": [
    "# Xây dựng mô hình từ giải thuật SVM trên dữ liệu bệnh tiểu đường."
   ]
  },
  {
   "cell_type": "markdown",
   "id": "8069a064",
   "metadata": {},
   "source": [
    "#### Tải thư viện và nạp dữ liệu:"
   ]
  },
  {
   "cell_type": "code",
   "execution_count": 2,
   "id": "fce1902d",
   "metadata": {},
   "outputs": [],
   "source": [
    "import pandas as pd\n",
    "import numpy as np\n",
    "from sklearn.model_selection import train_test_split\n",
    "\n",
    "df = pd.read_csv('datasets/diabetes.csv')"
   ]
  },
  {
   "cell_type": "markdown",
   "id": "cbc892f4",
   "metadata": {},
   "source": [
    "#### Xử lý dữ liệu thiếu"
   ]
  },
  {
   "cell_type": "code",
   "execution_count": 3,
   "id": "faa1a674",
   "metadata": {},
   "outputs": [],
   "source": [
    "cols_to_clean = ['Glucose', 'BloodPressure', 'SkinThickness', 'Insulin', 'BMI']\n",
    "\n",
    "for col in cols_to_clean:\n",
    "    # Lấy giá trị trung bình (chỉ tính các giá trị không phải 0)\n",
    "    col_mean = df[col][df[col] != 0].mean()\n",
    "    # Thay thế các giá trị 0 bằng giá trị trung bình\n",
    "    df[col] = df[col].replace(0, col_mean)"
   ]
  },
  {
   "cell_type": "markdown",
   "id": "ee949cca",
   "metadata": {},
   "source": [
    "#### Chuẩn hóa dữ liệu (Scaling)"
   ]
  },
  {
   "cell_type": "code",
   "execution_count": 4,
   "id": "8059106b",
   "metadata": {},
   "outputs": [],
   "source": [
    "from sklearn.preprocessing import StandardScaler\n",
    "\n",
    "# Tách X (features) và y (target)\n",
    "target = 'Outcome'\n",
    "features = df.drop(target, axis=1).columns.tolist()\n",
    "\n",
    "X = df[features]\n",
    "y = df[target]\n",
    "\n",
    "# Khởi tạo StandardScaler\n",
    "scaler = StandardScaler()\n",
    "\n",
    "# Fit và transform X\n",
    "X_scaled = scaler.fit_transform(X)"
   ]
  },
  {
   "cell_type": "markdown",
   "id": "ee4b196f",
   "metadata": {},
   "source": [
    "#### Chia dữ liệu"
   ]
  },
  {
   "cell_type": "code",
   "execution_count": null,
   "id": "9a4b8088",
   "metadata": {},
   "outputs": [],
   "source": [
    "# Tách dữ liệu đã chuẩn hóa\n",
    "X_train, X_test, y_train, y_test = train_test_split(\n",
    "    X_scaled, y, \n",
    "    test_size=0.2,       \n",
    "    random_state=101     \n",
    ")"
   ]
  },
  {
   "cell_type": "markdown",
   "id": "f322a3b4",
   "metadata": {},
   "source": [
    "#### Xây dựng và Tối ưu SVM"
   ]
  },
  {
   "cell_type": "code",
   "execution_count": 6,
   "id": "c4b27377",
   "metadata": {},
   "outputs": [
    {
     "name": "stdout",
     "output_type": "stream",
     "text": [
      "Fitting 4 folds for each of 12 candidates, totalling 48 fits\n",
      "[CV] END ...............................C=0.1, kernel=linear; total time=   0.0s\n",
      "[CV] END ...............................C=0.1, kernel=linear; total time=   0.0s\n",
      "[CV] END ...............................C=0.1, kernel=linear; total time=   0.0s\n",
      "[CV] END ...............................C=0.1, kernel=linear; total time=   0.0s\n",
      "[CV] END ..................................C=0.1, kernel=rbf; total time=   0.0s\n",
      "[CV] END ..................................C=0.1, kernel=rbf; total time=   0.0s\n",
      "[CV] END ..................................C=0.1, kernel=rbf; total time=   0.0s\n",
      "[CV] END ..................................C=0.1, kernel=rbf; total time=   0.0s\n",
      "[CV] END .................................C=0.1, kernel=poly; total time=   0.0s\n",
      "[CV] END .................................C=0.1, kernel=poly; total time=   0.0s\n",
      "[CV] END .................................C=0.1, kernel=poly; total time=   0.0s\n",
      "[CV] END .................................C=0.1, kernel=poly; total time=   0.0s\n",
      "[CV] END .................................C=1, kernel=linear; total time=   0.0s\n",
      "[CV] END .................................C=1, kernel=linear; total time=   0.0s\n",
      "[CV] END .................................C=1, kernel=linear; total time=   0.0s\n",
      "[CV] END .................................C=1, kernel=linear; total time=   0.0s\n",
      "[CV] END ....................................C=1, kernel=rbf; total time=   0.0s\n",
      "[CV] END ....................................C=1, kernel=rbf; total time=   0.0s\n",
      "[CV] END ....................................C=1, kernel=rbf; total time=   0.0s\n",
      "[CV] END ....................................C=1, kernel=rbf; total time=   0.0s\n",
      "[CV] END ...................................C=1, kernel=poly; total time=   0.0s\n",
      "[CV] END ...................................C=1, kernel=poly; total time=   0.0s\n",
      "[CV] END ...................................C=1, kernel=poly; total time=   0.0s\n",
      "[CV] END ...................................C=1, kernel=poly; total time=   0.0s\n",
      "[CV] END ................................C=10, kernel=linear; total time=   0.0s\n",
      "[CV] END ................................C=10, kernel=linear; total time=   0.0s\n",
      "[CV] END ................................C=10, kernel=linear; total time=   0.0s\n",
      "[CV] END ................................C=10, kernel=linear; total time=   0.0s\n",
      "[CV] END ...................................C=10, kernel=rbf; total time=   0.0s\n",
      "[CV] END ...................................C=10, kernel=rbf; total time=   0.0s\n",
      "[CV] END ...................................C=10, kernel=rbf; total time=   0.0s\n",
      "[CV] END ...................................C=10, kernel=rbf; total time=   0.0s\n",
      "[CV] END ..................................C=10, kernel=poly; total time=   0.0s\n",
      "[CV] END ..................................C=10, kernel=poly; total time=   0.0s\n",
      "[CV] END ..................................C=10, kernel=poly; total time=   0.0s\n",
      "[CV] END ..................................C=10, kernel=poly; total time=   0.0s\n",
      "[CV] END ...............................C=100, kernel=linear; total time=   0.0s\n",
      "[CV] END ...............................C=100, kernel=linear; total time=   0.0s\n",
      "[CV] END ...............................C=100, kernel=linear; total time=   0.0s\n",
      "[CV] END ...............................C=100, kernel=linear; total time=   0.1s\n",
      "[CV] END ..................................C=100, kernel=rbf; total time=   0.0s\n",
      "[CV] END ..................................C=100, kernel=rbf; total time=   0.0s\n",
      "[CV] END ..................................C=100, kernel=rbf; total time=   0.0s\n",
      "[CV] END ..................................C=100, kernel=rbf; total time=   0.0s\n",
      "[CV] END .................................C=100, kernel=poly; total time=   0.0s\n",
      "[CV] END .................................C=100, kernel=poly; total time=   0.0s\n",
      "[CV] END .................................C=100, kernel=poly; total time=   0.0s\n",
      "[CV] END .................................C=100, kernel=poly; total time=   0.0s\n",
      "Tham số tốt nhất tìm được:\n",
      "{'C': 0.1, 'kernel': 'linear'}\n"
     ]
    }
   ],
   "source": [
    "from sklearn import svm\n",
    "from sklearn.model_selection import GridSearchCV\n",
    "\n",
    "# 1. Khởi tạo mô hình\n",
    "svc_model = svm.SVC()\n",
    "\n",
    "# 2. Tạo lưới tham số để tìm kiếm\n",
    "# 'C' là tham số điều chỉnh lề mềm \n",
    "# 'kernel' là các hàm nhân (linear, rbf) \n",
    "param_grid = {\n",
    "    'C': [0.1, 1, 10, 100],\n",
    "    'kernel': ['linear', 'rbf', 'poly']\n",
    "}\n",
    "\n",
    "# 3. Khởi tạo GridSearchCV\n",
    "# cv=4 nghĩa là 4-fold cross-validation \n",
    "grid = GridSearchCV(svc_model, param_grid, refit=True, verbose=2, cv=4, scoring='accuracy')\n",
    "\n",
    "# 4. Huấn luyện mô hình\n",
    "grid.fit(X_train, y_train)\n",
    "\n",
    "# 5. In ra kết quả tốt nhất\n",
    "print(\"Tham số tốt nhất tìm được:\")\n",
    "print(grid.best_params_)\n",
    "\n",
    "# Lấy ra mô hình tốt nhất\n",
    "best_svm = grid.best_estimator_"
   ]
  },
  {
   "cell_type": "markdown",
   "id": "24df47ea",
   "metadata": {},
   "source": [
    "##### Đánh giá mô hình"
   ]
  },
  {
   "cell_type": "code",
   "execution_count": 8,
   "id": "cc7ec4eb",
   "metadata": {},
   "outputs": [
    {
     "name": "stdout",
     "output_type": "stream",
     "text": [
      "\n",
      "--- Kết quả đánh giá trên tập Test ---\n",
      "Độ chính xác (Accuracy): 0.7792\n",
      "\n",
      "Classification Report:\n",
      "              precision    recall  f1-score   support\n",
      "\n",
      "           0       0.81      0.88      0.84       103\n",
      "           1       0.71      0.57      0.63        51\n",
      "\n",
      "    accuracy                           0.78       154\n",
      "   macro avg       0.76      0.73      0.74       154\n",
      "weighted avg       0.77      0.78      0.77       154\n",
      "\n"
     ]
    }
   ],
   "source": [
    "from sklearn.metrics import classification_report, accuracy_score\n",
    "\n",
    "# Dự đoán trên tập test\n",
    "predictions = best_svm.predict(X_test)\n",
    "\n",
    "# In kết quả\n",
    "print(\"\\n--- Kết quả đánh giá trên tập Test ---\")\n",
    "print(f\"Độ chính xác (Accuracy): {accuracy_score(y_test, predictions):.4f}\")\n",
    "print(\"\\nClassification Report:\")\n",
    "print(classification_report(y_test, predictions))"
   ]
  },
  {
   "cell_type": "markdown",
   "id": "e2f838e3",
   "metadata": {},
   "source": [
    "Kết thúc"
   ]
  }
 ],
 "metadata": {
  "kernelspec": {
   "display_name": "base",
   "language": "python",
   "name": "python3"
  },
  "language_info": {
   "codemirror_mode": {
    "name": "ipython",
    "version": 3
   },
   "file_extension": ".py",
   "mimetype": "text/x-python",
   "name": "python",
   "nbconvert_exporter": "python",
   "pygments_lexer": "ipython3",
   "version": "3.11.13"
  }
 },
 "nbformat": 4,
 "nbformat_minor": 5
}
