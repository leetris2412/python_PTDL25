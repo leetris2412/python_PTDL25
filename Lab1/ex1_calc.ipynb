{
  "cells": [
    {
      "cell_type": "code",
      "execution_count": 4,
      "metadata": {
        "colab": {
          "base_uri": "https://localhost:8080/"
        },
        "id": "wif7lnLj_a10",
        "outputId": "09a7eef8-f77c-448e-bcfa-f75210264898"
      },
      "outputs": [
        {
          "name": "stdout",
          "output_type": "stream",
          "text": [
            "Calculator Basic\n",
            "Moi ban nhap so a: 4\n",
            "Moi ban nhap so b: 4\n",
            "c = 4 + 4 = 8\n"
          ]
        }
      ],
      "source": [
        "print(\"Calculator Basic\")\n",
        "\n",
        "a = int(input(\"Moi ban nhap so a: \"))\n",
        "b = int(input(\"Moi ban nhap so b: \"))\n",
        "\n",
        "c = a + b\n",
        "print(\"c = %d + %d = %d\" % (a, b, c))\n",
        "4"
      ]
    }
  ],
  "metadata": {
    "colab": {
      "provenance": []
    },
    "kernelspec": {
      "display_name": "Python 3",
      "name": "python3"
    },
    "language_info": {
      "name": "python"
    }
  },
  "nbformat": 4,
  "nbformat_minor": 0
}
