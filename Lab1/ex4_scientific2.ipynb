{
  "nbformat": 4,
  "nbformat_minor": 0,
  "metadata": {
    "colab": {
      "provenance": []
    },
    "kernelspec": {
      "name": "python3",
      "display_name": "Python 3"
    },
    "language_info": {
      "name": "python"
    }
  },
  "cells": [
    {
      "cell_type": "code",
      "execution_count": 8,
      "metadata": {
        "id": "Okhe0-if3Cl0"
      },
      "outputs": [],
      "source": [
        "#%% md"
      ]
    },
    {
      "cell_type": "markdown",
      "source": [
        "\n",
        "# ex4_scientific2"
      ],
      "metadata": {
        "id": "pg5dObhD3PBn"
      }
    },
    {
      "cell_type": "markdown",
      "source": [
        "## Nội dung bài"
      ],
      "metadata": {
        "id": "O74I52T43RNv"
      }
    },
    {
      "cell_type": "markdown",
      "source": [
        "Hiển thị 2 đồ thị sin(x), cos(x) trong khoảng $x \\in \\left[-\\pi, \\pi\\right]$"
      ],
      "metadata": {
        "id": "reK746hj3VJA"
      }
    },
    {
      "cell_type": "markdown",
      "source": [
        "## Bài làm"
      ],
      "metadata": {
        "id": "L1dqjv6Q3V0Z"
      }
    },
    {
      "cell_type": "markdown",
      "source": [
        "#%% md"
      ],
      "metadata": {
        "id": "Ev7XL3Jo3YPH"
      }
    },
    {
      "cell_type": "markdown",
      "source": [
        "### Import thư viện"
      ],
      "metadata": {
        "id": "AuOAPPn53a4-"
      }
    },
    {
      "cell_type": "markdown",
      "source": [
        "#%%"
      ],
      "metadata": {
        "id": "4ULpqJuk3jUb"
      }
    },
    {
      "cell_type": "code",
      "source": [
        "import numpy as np\n",
        "import matplotlib.pyplot as plt"
      ],
      "metadata": {
        "id": "8PcqMGns4Qtn"
      },
      "execution_count": 9,
      "outputs": []
    },
    {
      "cell_type": "markdown",
      "source": [
        "#%% md"
      ],
      "metadata": {
        "id": "xuZEw3M-4Sxf"
      }
    },
    {
      "cell_type": "markdown",
      "source": [
        "### Sinh dữ liệu hàm số"
      ],
      "metadata": {
        "id": "13OEwK4n4VCY"
      }
    },
    {
      "cell_type": "markdown",
      "source": [
        "#%%"
      ],
      "metadata": {
        "id": "vcB-K73o4Xm3"
      }
    },
    {
      "cell_type": "code",
      "source": [
        "X = np.linspace(-np.pi, np.pi, 256, endpoint=True) # generate x in [-pi, pi]\n",
        "C, S = np.cos(X), np.sin(X)"
      ],
      "metadata": {
        "id": "DzPNDTvp4c-c"
      },
      "execution_count": 10,
      "outputs": []
    },
    {
      "cell_type": "markdown",
      "source": [
        "#%%"
      ],
      "metadata": {
        "id": "jQ1s7Eai4e9H"
      }
    },
    {
      "cell_type": "code",
      "source": [
        "print(f'+ X: |X|={len(X)}, x in [{np.min(X):.2f}, {np.max(X):.2f}], 10 samples: {X[0:10]}')\n",
        "print(f'+ Cos(X): |C|={len(C)}, C in [{np.min(C):.2f}, {np.max(C):.2f}], 10 samples: {C[0:10]}')\n",
        "print(f'+ Sin(X): |S|={len(S)}, S in [{np.min(S):.2f}, {np.max(S):.2f}], 10 samples: {S[0:10]}')"
      ],
      "metadata": {
        "colab": {
          "base_uri": "https://localhost:8080/"
        },
        "id": "okb5flvx4hVF",
        "outputId": "08528473-dc5c-463f-8e61-8ebb8bc10814"
      },
      "execution_count": 11,
      "outputs": [
        {
          "output_type": "stream",
          "name": "stdout",
          "text": [
            "+ X: |X|=256, x in [-3.14, 3.14], 10 samples: [-3.14159265 -3.11695271 -3.09231277 -3.06767283 -3.04303288 -3.01839294\n",
            " -2.993753   -2.96911306 -2.94447311 -2.91983317]\n",
            "+ Cos(X): |C|=256, C in [-1.00, 1.00], 10 samples: [-1.         -0.99969645 -0.99878599 -0.99726917 -0.99514692 -0.99242051\n",
            " -0.98909161 -0.98516223 -0.98063477 -0.97551197]\n",
            "+ Sin(X): |S|=256, S in [-1.00, 1.00], 10 samples: [-1.22464680e-16 -2.46374492e-02 -4.92599411e-02 -7.38525275e-02\n",
            " -9.84002783e-02 -1.22888291e-01 -1.47301698e-01 -1.71625679e-01\n",
            " -1.95845467e-01 -2.19946358e-01]\n"
          ]
        }
      ]
    },
    {
      "cell_type": "markdown",
      "source": [
        "#%% md"
      ],
      "metadata": {
        "id": "EY6LABzz4kJc"
      }
    },
    {
      "cell_type": "markdown",
      "source": [
        "### Hiển thị đồ thị"
      ],
      "metadata": {
        "id": "1wywkAWU4lFG"
      }
    },
    {
      "cell_type": "markdown",
      "source": [
        "#%%"
      ],
      "metadata": {
        "id": "cLjEGdna4o1w"
      }
    },
    {
      "cell_type": "markdown",
      "source": [
        "# visualize data"
      ],
      "metadata": {
        "id": "FE-NKLeA4scN"
      }
    },
    {
      "cell_type": "code",
      "source": [
        "plt.plot(X, C, color=\"blue\", linewidth=2.5, linestyle=\"-\");\n",
        "plt.plot(X, S, color=\"red\", linewidth=2.5, linestyle=\"-\");"
      ],
      "metadata": {
        "colab": {
          "base_uri": "https://localhost:8080/",
          "height": 430
        },
        "id": "wza-4NkZ4u6s",
        "outputId": "22ae91be-3a82-4163-8601-76eb2fa305ab"
      },
      "execution_count": 12,
      "outputs": [
        {
          "output_type": "display_data",
          "data": {
            "text/plain": [
              "<Figure size 640x480 with 1 Axes>"
            ],
            "image/png": "[encoded data removed]"
          },
          "metadata": {}
        }
      ]
    },
    {
      "cell_type": "markdown",
      "source": [
        "# limit on x axis"
      ],
      "metadata": {
        "id": "ojWrYO0E4xiQ"
      }
    },
    {
      "cell_type": "code",
      "source": [
        "plt.xlim(X.min() * 1.1, X.max() * 1.1);\n",
        "plt.xticks([-np.pi, -np.pi / 2, 0, np.pi / 2, np.pi],\n",
        "           [r'$-\\pi$', r'$-\\pi/2$', r'$0$', r'$+\\pi/2$', r'$+\\pi$']);"
      ],
      "metadata": {
        "colab": {
          "base_uri": "https://localhost:8080/",
          "height": 436
        },
        "id": "e6tyoGJS4zyq",
        "outputId": "86603a20-caf1-44d9-e501-7f5f811703db"
      },
      "execution_count": 13,
      "outputs": [
        {
          "output_type": "display_data",
          "data": {
            "text/plain": [
              "<Figure size 640x480 with 1 Axes>"
            ],
            "image/png": "[encoded data removed]"
          },
          "metadata": {}
        }
      ]
    },
    {
      "cell_type": "markdown",
      "source": [
        "\n",
        "# limit on y axis"
      ],
      "metadata": {
        "id": "NganpXa-43EC"
      }
    },
    {
      "cell_type": "code",
      "source": [
        "plt.ylim(C.min() * 1.1, C.max() * 1.1);\n",
        "plt.yticks([-1, 0, +1], [r'$-1$', r'$0$', r'$+1$']);\n",
        "plt.show()"
      ],
      "metadata": {
        "colab": {
          "base_uri": "https://localhost:8080/",
          "height": 430
        },
        "id": "-IYtrTOd461K",
        "outputId": "9c639732-982f-431f-c5d7-ee2a3a2439a5"
      },
      "execution_count": 14,
      "outputs": [
        {
          "output_type": "display_data",
          "data": {
            "text/plain": [
              "<Figure size 640x480 with 1 Axes>"
            ],
            "image/png": "[encoded data removed]"
          },
          "metadata": {}
        }
      ]
    },
    {
      "cell_type": "markdown",
      "source": [
        "#%% md"
      ],
      "metadata": {
        "id": "Bcd-6XmG5BEe"
      }
    },
    {
      "cell_type": "markdown",
      "source": [
        "# Kết thúc"
      ],
      "metadata": {
        "id": "KniWUi7R5Blz"
      }
    }
  ]
}