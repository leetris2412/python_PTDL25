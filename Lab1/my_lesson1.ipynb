{
  "nbformat": 4,
  "nbformat_minor": 0,
  "metadata": {
    "colab": {
      "provenance": []
    },
    "kernelspec": {
      "name": "python3",
      "display_name": "Python 3"
    },
    "language_info": {
      "name": "python"
    }
  },
  "cells": [
    {
      "cell_type": "code",
      "execution_count": 1,
      "metadata": {
        "id": "JE-g22mO93E3"
      },
      "outputs": [],
      "source": [
        "# “Thuc hanh tri tue nhan tao Buoi 1”"
      ]
    },
    {
      "cell_type": "markdown",
      "source": [
        "## “Noi dung thuc hanh”"
      ],
      "metadata": {
        "id": "mxTTZNsL9-ZU"
      }
    },
    {
      "cell_type": "markdown",
      "source": [
        "### In chu ra man hinh\n"
      ],
      "metadata": {
        "id": "QrPe3YN6-LIk"
      }
    },
    {
      "cell_type": "markdown",
      "source": [
        "# lenh 1 - xuat chu"
      ],
      "metadata": {
        "id": "1Tfm3JKs-PDO"
      }
    },
    {
      "cell_type": "code",
      "source": [
        "print(\"Hello, Python World!\")"
      ],
      "metadata": {
        "colab": {
          "base_uri": "https://localhost:8080/"
        },
        "id": "jaLtg_K5-WEK",
        "outputId": "9d1bd545-c1c9-45bc-d0a3-5777558302f8"
      },
      "execution_count": 5,
      "outputs": [
        {
          "output_type": "stream",
          "name": "stdout",
          "text": [
            "Hello, Python World!\n"
          ]
        }
      ]
    },
    {
      "cell_type": "markdown",
      "source": [
        "# Ket Thuc"
      ],
      "metadata": {
        "id": "K0ZwyUi0-ZNU"
      }
    }
  ]
}